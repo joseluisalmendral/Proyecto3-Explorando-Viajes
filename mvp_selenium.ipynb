{
 "cells": [
  {
   "cell_type": "markdown",
   "metadata": {},
   "source": [
    "## Vamos a comprobar si podemos hacer la parte de selenium para TripAdvisor\n"
   ]
  },
  {
   "cell_type": "code",
   "execution_count": 1,
   "metadata": {},
   "outputs": [],
   "source": [
    "# Importamos las librerías que necesitamos\n",
    "\n",
    "# Librerías de extracción de datos\n",
    "# -----------------------------------------------------------------------\n",
    "\n",
    "# Importaciones:\n",
    "# Beautifulsoup\n",
    "from bs4 import BeautifulSoup\n",
    "\n",
    "# Requests\n",
    "import requests\n",
    "\n",
    "import pandas as pd\n",
    "import numpy as np\n",
    "\n",
    "from time import sleep\n",
    "\n",
    "# Importar librerías para automatización de navegadores web con Selenium\n",
    "# -----------------------------------------------------------------------\n",
    "from selenium import webdriver  # Selenium es una herramienta para automatizar la interacción con navegadores web.\n",
    "from webdriver_manager.chrome import ChromeDriverManager  # ChromeDriverManager gestiona la instalación del controlador de Chrome.\n",
    "from selenium.webdriver.common.keys import Keys  # Keys es útil para simular eventos de teclado en Selenium.\n",
    "from selenium.webdriver.support.ui import Select  # Select se utiliza para interactuar con elementos <select> en páginas web.\n",
    "from selenium.webdriver.support.ui import WebDriverWait\n",
    "from selenium.webdriver.support import expected_conditions as EC\n",
    "from selenium.common.exceptions import NoSuchElementException # Excepciones comunes de selenium que nos podemos encontrar \n",
    "from selenium.webdriver.common.by import By\n",
    "from selenium.webdriver.chrome.options import Options\n",
    "\n",
    "from src import support_selenium as sup_sel\n",
    "from fake_useragent import UserAgent\n",
    "import datetime\n",
    "\n",
    "pd.set_option('display.max_rows', None)\n",
    "pd.set_option('display.max_columns', None)"
   ]
  },
  {
   "cell_type": "code",
   "execution_count": 2,
   "metadata": {},
   "outputs": [],
   "source": [
    "ciudades = ['Paris', 'Barcelona']"
   ]
  },
  {
   "cell_type": "code",
   "execution_count": 3,
   "metadata": {},
   "outputs": [],
   "source": [
    "urls_ciudades = sup_sel.obtener_urls_paginas_principales(ciudades)\n",
    "urls_ciudades.to_csv(f'datos/urls/paginas/full_urls_paginas_principales_{datetime.datetime.now().date()}.csv')"
   ]
  },
  {
   "cell_type": "code",
   "execution_count": 4,
   "metadata": {},
   "outputs": [],
   "source": [
    "df_urls_ciudades = pd.read_csv(\"datos/urls/paginas/full_urls_paginas_principales_2024-10-20.csv\", index_col=0)"
   ]
  },
  {
   "cell_type": "code",
   "execution_count": 5,
   "metadata": {},
   "outputs": [
    {
     "data": {
      "text/html": [
       "<div>\n",
       "<style scoped>\n",
       "    .dataframe tbody tr th:only-of-type {\n",
       "        vertical-align: middle;\n",
       "    }\n",
       "\n",
       "    .dataframe tbody tr th {\n",
       "        vertical-align: top;\n",
       "    }\n",
       "\n",
       "    .dataframe thead th {\n",
       "        text-align: right;\n",
       "    }\n",
       "</style>\n",
       "<table border=\"1\" class=\"dataframe\">\n",
       "  <thead>\n",
       "    <tr style=\"text-align: right;\">\n",
       "      <th></th>\n",
       "      <th>ciudades</th>\n",
       "      <th>urls</th>\n",
       "      <th>codigos_pagina</th>\n",
       "    </tr>\n",
       "  </thead>\n",
       "  <tbody>\n",
       "    <tr>\n",
       "      <th>0</th>\n",
       "      <td>Paris</td>\n",
       "      <td>https://www.tripadvisor.es/Attractions-g187147...</td>\n",
       "      <td>&lt;html lang=\"es-ES\"&gt;&lt;head&gt;&lt;link rel=\"icon\" id=\"...</td>\n",
       "    </tr>\n",
       "    <tr>\n",
       "      <th>1</th>\n",
       "      <td>Barcelona</td>\n",
       "      <td>https://www.tripadvisor.es/Attractions-g187497...</td>\n",
       "      <td>&lt;html lang=\"es-ES\"&gt;&lt;head&gt;&lt;link rel=\"icon\" id=\"...</td>\n",
       "    </tr>\n",
       "  </tbody>\n",
       "</table>\n",
       "</div>"
      ],
      "text/plain": [
       "    ciudades                                               urls  \\\n",
       "0      Paris  https://www.tripadvisor.es/Attractions-g187147...   \n",
       "1  Barcelona  https://www.tripadvisor.es/Attractions-g187497...   \n",
       "\n",
       "                                      codigos_pagina  \n",
       "0  <html lang=\"es-ES\"><head><link rel=\"icon\" id=\"...  \n",
       "1  <html lang=\"es-ES\"><head><link rel=\"icon\" id=\"...  "
      ]
     },
     "execution_count": 5,
     "metadata": {},
     "output_type": "execute_result"
    }
   ],
   "source": [
    "df_urls_ciudades"
   ]
  },
  {
   "cell_type": "code",
   "execution_count": 6,
   "metadata": {},
   "outputs": [],
   "source": [
    "# urls = df_urls_ciudades['urls'].values\n",
    "# urls"
   ]
  },
  {
   "cell_type": "code",
   "execution_count": 7,
   "metadata": {},
   "outputs": [],
   "source": [
    "# urls_contenidos = sup_sel.obtener_html_de_urls(urls)"
   ]
  },
  {
   "cell_type": "code",
   "execution_count": 8,
   "metadata": {},
   "outputs": [],
   "source": [
    "# df_urls_ciudades = df_urls_ciudades.merge(urls_contenidos, how='right')"
   ]
  },
  {
   "cell_type": "code",
   "execution_count": 9,
   "metadata": {},
   "outputs": [],
   "source": [
    "#df_urls_ciudades.to_csv(\"datos/urls/paginas/df_cius_urls_html.csv\")"
   ]
  },
  {
   "cell_type": "code",
   "execution_count": 10,
   "metadata": {},
   "outputs": [],
   "source": [
    "# df_guardar = df_urls_ciudades[['ciudades', 'codigos_pagina']]\n",
    "# df_guardar"
   ]
  },
  {
   "cell_type": "markdown",
   "metadata": {},
   "source": [
    "### guardar htmls"
   ]
  },
  {
   "cell_type": "code",
   "execution_count": 11,
   "metadata": {},
   "outputs": [],
   "source": [
    "# for index, row in df_guardar.iterrows():\n",
    "#     ciudad = row['ciudades']\n",
    "#     html = BeautifulSoup(row['html'], 'html.parser')\n",
    "\n",
    "#     with open(f\"datos/html/actividades_{ciudad}.html\", \"w\", encoding=\"utf-8\") as file:\n",
    "#         file.write(str(html))"
   ]
  },
  {
   "cell_type": "code",
   "execution_count": 12,
   "metadata": {},
   "outputs": [
    {
     "data": {
      "text/html": [
       "<div>\n",
       "<style scoped>\n",
       "    .dataframe tbody tr th:only-of-type {\n",
       "        vertical-align: middle;\n",
       "    }\n",
       "\n",
       "    .dataframe tbody tr th {\n",
       "        vertical-align: top;\n",
       "    }\n",
       "\n",
       "    .dataframe thead th {\n",
       "        text-align: right;\n",
       "    }\n",
       "</style>\n",
       "<table border=\"1\" class=\"dataframe\">\n",
       "  <thead>\n",
       "    <tr style=\"text-align: right;\">\n",
       "      <th></th>\n",
       "      <th>ciudades</th>\n",
       "      <th>urls</th>\n",
       "      <th>codigos_pagina</th>\n",
       "    </tr>\n",
       "  </thead>\n",
       "  <tbody>\n",
       "    <tr>\n",
       "      <th>0</th>\n",
       "      <td>Paris</td>\n",
       "      <td>https://www.tripadvisor.es/Attractions-g187147...</td>\n",
       "      <td>&lt;html lang=\"es-ES\"&gt;&lt;head&gt;&lt;link rel=\"icon\" id=\"...</td>\n",
       "    </tr>\n",
       "    <tr>\n",
       "      <th>1</th>\n",
       "      <td>Barcelona</td>\n",
       "      <td>https://www.tripadvisor.es/Attractions-g187497...</td>\n",
       "      <td>&lt;html lang=\"es-ES\"&gt;&lt;head&gt;&lt;link rel=\"icon\" id=\"...</td>\n",
       "    </tr>\n",
       "  </tbody>\n",
       "</table>\n",
       "</div>"
      ],
      "text/plain": [
       "    ciudades                                               urls  \\\n",
       "0      Paris  https://www.tripadvisor.es/Attractions-g187147...   \n",
       "1  Barcelona  https://www.tripadvisor.es/Attractions-g187497...   \n",
       "\n",
       "                                      codigos_pagina  \n",
       "0  <html lang=\"es-ES\"><head><link rel=\"icon\" id=\"...  \n",
       "1  <html lang=\"es-ES\"><head><link rel=\"icon\" id=\"...  "
      ]
     },
     "execution_count": 12,
     "metadata": {},
     "output_type": "execute_result"
    }
   ],
   "source": [
    "df_urls_ciudades"
   ]
  },
  {
   "cell_type": "code",
   "execution_count": 13,
   "metadata": {},
   "outputs": [],
   "source": [
    "df_resultado = sup_sel.obtener_actividades(df_urls_ciudades)"
   ]
  },
  {
   "cell_type": "code",
   "execution_count": 14,
   "metadata": {},
   "outputs": [],
   "source": [
    "#df_resultado.to_csv(f'datos/df_actividades_ciudades_{datetime.datetime.now().date()}_full')"
   ]
  },
  {
   "cell_type": "markdown",
   "metadata": {},
   "source": [
    "### prueba obtener info actividad"
   ]
  },
  {
   "cell_type": "code",
   "execution_count": 15,
   "metadata": {},
   "outputs": [],
   "source": [
    "# url = 'https://www.tripadvisor.es/AttractionProductReview-g187497-d24071959-Make_Seafood_Paella_and_Sangria_with_a_Top_Chef_in_Barcelona-Barcelona_Catalonia.html'\n",
    "# resultado = {'urls': [], 'html': []}\n",
    "\n",
    "# headers = {\n",
    "#         # Decirle al server lenguaje español\n",
    "#         'accept-language': 'es', \n",
    "#         # Simulamos que somos el navegador Chrome\n",
    "#         'User-Agent': 'Mozilla/5.0 (Windows NT 10.0; Win64; x64) AppleWebKit/537.36 (KHTML, like Gecko) Chrome/95.0.4638.69 Safari/537.36'\n",
    "#         }\n",
    "\n",
    "# respuesta = requests.get(url, headers=headers)\n",
    "\n",
    "# if respuesta.status_code == 200:\n",
    "#     resultado['urls'].append(url)\n",
    "#     resultado['html'].append(BeautifulSoup(respuesta.content, 'html.parser'))\n",
    "\n",
    "# html = resultado['html'][0]\n"
   ]
  },
  {
   "cell_type": "code",
   "execution_count": 16,
   "metadata": {},
   "outputs": [],
   "source": [
    "df_actividades = pd.read_csv('datos/df_actividades_ciudades_2024-10-20_full', index_col=0)"
   ]
  },
  {
   "cell_type": "code",
   "execution_count": 17,
   "metadata": {},
   "outputs": [
    {
     "data": {
      "text/plain": [
       "ciudad           0\n",
       "categoria        0\n",
       "subcategoria     8\n",
       "nombre           8\n",
       "precio          17\n",
       "puntuacion       8\n",
       "n_reviews        8\n",
       "url_detalles     8\n",
       "dtype: int64"
      ]
     },
     "execution_count": 17,
     "metadata": {},
     "output_type": "execute_result"
    }
   ],
   "source": [
    "(df_actividades == 'Desconocido').sum()"
   ]
  },
  {
   "cell_type": "code",
   "execution_count": 20,
   "metadata": {},
   "outputs": [
    {
     "data": {
      "text/plain": [
       "ciudad           0\n",
       "categoria        0\n",
       "subcategoria    32\n",
       "nombre           0\n",
       "precio           0\n",
       "puntuacion       0\n",
       "n_reviews        0\n",
       "url_detalles     0\n",
       "dtype: int64"
      ]
     },
     "execution_count": 20,
     "metadata": {},
     "output_type": "execute_result"
    }
   ],
   "source": [
    "df_actividades.isna().sum()"
   ]
  },
  {
   "cell_type": "code",
   "execution_count": 19,
   "metadata": {},
   "outputs": [
    {
     "data": {
      "text/html": [
       "<div>\n",
       "<style scoped>\n",
       "    .dataframe tbody tr th:only-of-type {\n",
       "        vertical-align: middle;\n",
       "    }\n",
       "\n",
       "    .dataframe tbody tr th {\n",
       "        vertical-align: top;\n",
       "    }\n",
       "\n",
       "    .dataframe thead th {\n",
       "        text-align: right;\n",
       "    }\n",
       "</style>\n",
       "<table border=\"1\" class=\"dataframe\">\n",
       "  <thead>\n",
       "    <tr style=\"text-align: right;\">\n",
       "      <th></th>\n",
       "      <th>ciudad</th>\n",
       "      <th>categoria</th>\n",
       "      <th>subcategoria</th>\n",
       "      <th>nombre</th>\n",
       "      <th>precio</th>\n",
       "      <th>puntuacion</th>\n",
       "      <th>n_reviews</th>\n",
       "      <th>url_detalles</th>\n",
       "    </tr>\n",
       "  </thead>\n",
       "  <tbody>\n",
       "    <tr>\n",
       "      <th>19</th>\n",
       "      <td>Paris</td>\n",
       "      <td>OTRAS ATRACCIONES PRINCIPALES</td>\n",
       "      <td>NaN</td>\n",
       "      <td>Basilique de Saint-Denis</td>\n",
       "      <td>Desconocido</td>\n",
       "      <td>4.5</td>\n",
       "      <td>1495</td>\n",
       "      <td>/Attraction_Review-g196589-d232100-Reviews-Bas...</td>\n",
       "    </tr>\n",
       "    <tr>\n",
       "      <th>35</th>\n",
       "      <td>Barcelona</td>\n",
       "      <td>ARTE Y CULTURA</td>\n",
       "      <td>NaN</td>\n",
       "      <td>Gerona, Figueras y el Museo Dalí: excursión de...</td>\n",
       "      <td>49</td>\n",
       "      <td>4.5</td>\n",
       "      <td>177</td>\n",
       "      <td>/AttractionProductReview-g187497-d11446574-Gir...</td>\n",
       "    </tr>\n",
       "    <tr>\n",
       "      <th>15</th>\n",
       "      <td>Paris</td>\n",
       "      <td>ATRACCIONES PRINCIPALES</td>\n",
       "      <td>Desconocido</td>\n",
       "      <td>Desconocido</td>\n",
       "      <td>Desconocido</td>\n",
       "      <td>Desconocido</td>\n",
       "      <td>Desconocido</td>\n",
       "      <td>Desconocido</td>\n",
       "    </tr>\n",
       "    <tr>\n",
       "      <th>29</th>\n",
       "      <td>Barcelona</td>\n",
       "      <td>GASTRONOMIA</td>\n",
       "      <td>NaN</td>\n",
       "      <td>Clase de cocina mediterránea en Barcelona</td>\n",
       "      <td>120</td>\n",
       "      <td>5.0</td>\n",
       "      <td>138</td>\n",
       "      <td>/AttractionProductReview-g187497-d11474724-Pre...</td>\n",
       "    </tr>\n",
       "    <tr>\n",
       "      <th>34</th>\n",
       "      <td>Barcelona</td>\n",
       "      <td>ARTE Y CULTURA</td>\n",
       "      <td>NaN</td>\n",
       "      <td>Excursión al Museo Dalí, Figueras y Portlligat...</td>\n",
       "      <td>120</td>\n",
       "      <td>5.0</td>\n",
       "      <td>461</td>\n",
       "      <td>/AttractionProductReview-g187497-d11988230-Dal...</td>\n",
       "    </tr>\n",
       "    <tr>\n",
       "      <th>17</th>\n",
       "      <td>Paris</td>\n",
       "      <td>OTRAS ATRACCIONES PRINCIPALES</td>\n",
       "      <td>NaN</td>\n",
       "      <td>Palacio de Versalles</td>\n",
       "      <td>Desconocido</td>\n",
       "      <td>4.0</td>\n",
       "      <td>27.646</td>\n",
       "      <td>/Attraction_Review-g187148-d188681-Reviews-Pal...</td>\n",
       "    </tr>\n",
       "    <tr>\n",
       "      <th>39</th>\n",
       "      <td>Barcelona</td>\n",
       "      <td>ATRACCIONES PRINCIPALES</td>\n",
       "      <td>Desconocido</td>\n",
       "      <td>Desconocido</td>\n",
       "      <td>Desconocido</td>\n",
       "      <td>Desconocido</td>\n",
       "      <td>Desconocido</td>\n",
       "      <td>Desconocido</td>\n",
       "    </tr>\n",
       "    <tr>\n",
       "      <th>36</th>\n",
       "      <td>Barcelona</td>\n",
       "      <td>ATRACCIONES PRINCIPALES</td>\n",
       "      <td>Desconocido</td>\n",
       "      <td>Desconocido</td>\n",
       "      <td>Desconocido</td>\n",
       "      <td>Desconocido</td>\n",
       "      <td>Desconocido</td>\n",
       "      <td>Desconocido</td>\n",
       "    </tr>\n",
       "    <tr>\n",
       "      <th>3</th>\n",
       "      <td>Paris</td>\n",
       "      <td>INPRESCINDIBLES</td>\n",
       "      <td>Excursiones de un día</td>\n",
       "      <td>Excursión de un día al Mont Saint Michel desde...</td>\n",
       "      <td>99</td>\n",
       "      <td>4.5</td>\n",
       "      <td>597</td>\n",
       "      <td>/AttractionProductReview-g187147-d12939613-Mon...</td>\n",
       "    </tr>\n",
       "    <tr>\n",
       "      <th>14</th>\n",
       "      <td>Paris</td>\n",
       "      <td>ATRACCIONES PRINCIPALES</td>\n",
       "      <td>Desconocido</td>\n",
       "      <td>Desconocido</td>\n",
       "      <td>Desconocido</td>\n",
       "      <td>Desconocido</td>\n",
       "      <td>Desconocido</td>\n",
       "      <td>Desconocido</td>\n",
       "    </tr>\n",
       "  </tbody>\n",
       "</table>\n",
       "</div>"
      ],
      "text/plain": [
       "       ciudad                      categoria           subcategoria  \\\n",
       "19      Paris  OTRAS ATRACCIONES PRINCIPALES                    NaN   \n",
       "35  Barcelona                 ARTE Y CULTURA                    NaN   \n",
       "15      Paris        ATRACCIONES PRINCIPALES            Desconocido   \n",
       "29  Barcelona                    GASTRONOMIA                    NaN   \n",
       "34  Barcelona                 ARTE Y CULTURA                    NaN   \n",
       "17      Paris  OTRAS ATRACCIONES PRINCIPALES                    NaN   \n",
       "39  Barcelona        ATRACCIONES PRINCIPALES            Desconocido   \n",
       "36  Barcelona        ATRACCIONES PRINCIPALES            Desconocido   \n",
       "3       Paris                INPRESCINDIBLES  Excursiones de un día   \n",
       "14      Paris        ATRACCIONES PRINCIPALES            Desconocido   \n",
       "\n",
       "                                               nombre       precio  \\\n",
       "19                           Basilique de Saint-Denis  Desconocido   \n",
       "35  Gerona, Figueras y el Museo Dalí: excursión de...           49   \n",
       "15                                        Desconocido  Desconocido   \n",
       "29          Clase de cocina mediterránea en Barcelona          120   \n",
       "34  Excursión al Museo Dalí, Figueras y Portlligat...          120   \n",
       "17                               Palacio de Versalles  Desconocido   \n",
       "39                                        Desconocido  Desconocido   \n",
       "36                                        Desconocido  Desconocido   \n",
       "3   Excursión de un día al Mont Saint Michel desde...           99   \n",
       "14                                        Desconocido  Desconocido   \n",
       "\n",
       "     puntuacion    n_reviews  \\\n",
       "19          4.5         1495   \n",
       "35          4.5          177   \n",
       "15  Desconocido  Desconocido   \n",
       "29          5.0          138   \n",
       "34          5.0          461   \n",
       "17          4.0       27.646   \n",
       "39  Desconocido  Desconocido   \n",
       "36  Desconocido  Desconocido   \n",
       "3           4.5          597   \n",
       "14  Desconocido  Desconocido   \n",
       "\n",
       "                                         url_detalles  \n",
       "19  /Attraction_Review-g196589-d232100-Reviews-Bas...  \n",
       "35  /AttractionProductReview-g187497-d11446574-Gir...  \n",
       "15                                        Desconocido  \n",
       "29  /AttractionProductReview-g187497-d11474724-Pre...  \n",
       "34  /AttractionProductReview-g187497-d11988230-Dal...  \n",
       "17  /Attraction_Review-g187148-d188681-Reviews-Pal...  \n",
       "39                                        Desconocido  \n",
       "36                                        Desconocido  \n",
       "3   /AttractionProductReview-g187147-d12939613-Mon...  \n",
       "14                                        Desconocido  "
      ]
     },
     "execution_count": 19,
     "metadata": {},
     "output_type": "execute_result"
    }
   ],
   "source": [
    "df_actividades.sample(10)"
   ]
  }
 ],
 "metadata": {
  "kernelspec": {
   "display_name": "proyecto3",
   "language": "python",
   "name": "python3"
  },
  "language_info": {
   "codemirror_mode": {
    "name": "ipython",
    "version": 3
   },
   "file_extension": ".py",
   "mimetype": "text/x-python",
   "name": "python",
   "nbconvert_exporter": "python",
   "pygments_lexer": "ipython3",
   "version": "3.12.4"
  }
 },
 "nbformat": 4,
 "nbformat_minor": 2
}
